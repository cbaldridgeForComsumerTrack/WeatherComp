{
 "cells": [
  {
   "cell_type": "code",
   "execution_count": 1,
   "metadata": {},
   "outputs": [],
   "source": [
    "import datetime\n",
    "from  datetime import datetime\n",
    "import pandas as pd\n",
    "import forecastiopy\n",
    "from forecastiopy import *\n",
    "import getpass"
   ]
  },
  {
   "cell_type": "markdown",
   "metadata": {},
   "source": [
    "\n",
    "using: https://github.com/bitpixdigital/forecastiopy3\n",
    "installed by getting the zip, pushing to btcbracket, wget, unzip, python setup.py install\n"
   ]
  },
  {
   "cell_type": "code",
   "execution_count": 2,
   "metadata": {},
   "outputs": [],
   "source": [
    "#setup vars\n",
    "key = '<your key here!>'\n",
    "#locations\n",
    "Lisbon = [38.7252993, -9.1500364]\n",
    "Segundo = [33.9192, -118.4165]\n",
    "Burlington = [44.4759, -73.2121]\n",
    "Denver = [39.7392, -104.9903]\n",
    "startTime=1514779213 #1/1/2018"
   ]
  },
  {
   "cell_type": "code",
   "execution_count": 3,
   "metadata": {},
   "outputs": [
    {
     "name": "stdout",
     "output_type": "stream",
     "text": [
      "1514865613\n",
      "1514952013\n",
      "1515038413\n",
      "1515124813\n",
...
      "1546142413\n",
      "1546228813\n",
      "1546315213\n",
      "1546401613\n"
     ]
    }
   ],
   "source": [
    "#let's get a couple days of data:\n",
    "loopTime= startTime\n",
    "maxTime = loopTime + (365*24*60*60) + 10 #365 days later\n",
    "loopCount = 0\n",
    "currentDayPd = []\n",
    "#want dateKeys and hourKeys\n",
    "def getDateKey(x):\n",
    "    return datetime.utcfromtimestamp(int(x)).strftime('%Y%m%d')\n",
    "def getHourKey(x):\n",
    "    return datetime.utcfromtimestamp(int(x)).strftime('%H')\n",
    "\n",
    "while (loopTime < maxTime):\n",
    "    # fio.url_time = str(loopTime)  #this does nothing\n",
    "    fiohistory = ForecastIO.ForecastIO(key, latitude=Denver[0], longitude=Denver[1], time_url=str(loopTime))\n",
    "    currentDay = FIOHourly.FIOHourly(fiohistory)\n",
    "    currentDateDf = pd.DataFrame.from_dict(currentDay.get()['data'])\n",
    "    currentDateDf['dateKey'] = currentDateDf['time'].apply(getDateKey)\n",
    "    currentDateDf['hourKey'] = currentDateDf['time'].apply(getHourKey)\n",
    "    currentDayPd.append(currentDateDf) \n",
    "    loopCount = loopCount+1\n",
    "    loopTime = loopTime+ (24*60*60)\n",
    "    print(loopTime)\n"
   ]
  },
  {
   "cell_type": "code",
   "execution_count": 4,
   "metadata": {},
   "outputs": [
    {
     "name": "stdout",
     "output_type": "stream",
     "text": [
      
     ]    },
    {
     "name": "stderr",
     "output_type": "stream",
     "text": [
      "/home/cbaldridge/anaconda3/lib/python3.7/site-packages/pandas/core/frame.py:6211: FutureWarning: Sorting because non-concatenation axis is not aligned. A future version\n",
      "of pandas will change to not sort by default.\n",
      "\n",
      "To accept the future behavior, pass 'sort=False'.\n",
      "\n",
      "To retain the current behavior and silence the warning, pass 'sort=True'.\n",
      "\n",
      "  sort=sort)\n"
     ]
    },
    {
     "name": "stdout",
     "output_type": "stream",
     "text": [
     ]
    }
   ],
   "source": [
    "#combine those data frames into a single DF\n",
    "biggerDF = pd.DataFrame() #currentDayPd[0]\n",
    "for df in currentDayPd:\n",
    "    #print(\"in loop\")\n",
    "    biggerDF = biggerDF.append(df)\n",
    "\n",
    "#if we wanted to see it\n",
    "#biggerDF.sort_values(by=['time'])"
   ]
  },
  {
   "cell_type": "raw",
   "metadata": {},
   "source": [
    "Next, write those out to a file"
   ]
  },
  {
   "cell_type": "code",
   "execution_count": 5,
   "metadata": {},
   "outputs": [],
   "source": [
    "biggerDF.to_csv('./weatherdata2018den.csv', index=False)"
   ]
  }
 ],
 "metadata": {
  "kernelspec": {
   "display_name": "Python 3",
   "language": "python",
   "name": "python3"
  },
  "language_info": {
   "codemirror_mode": {
    "name": "ipython",
    "version": 3
   },
   "file_extension": ".py",
   "mimetype": "text/x-python",
   "name": "python",
   "nbconvert_exporter": "python",
   "pygments_lexer": "ipython3",
   "version": "3.7.1"
  }
 },
 "nbformat": 4,
 "nbformat_minor": 2
}
